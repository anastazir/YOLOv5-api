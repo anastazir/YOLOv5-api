{
 "cells": [
  {
   "cell_type": "code",
   "execution_count": 38,
   "metadata": {},
   "outputs": [],
   "source": [
    "import cv2\n",
    "import numpy as np\n",
    "from YOLO import Yolo\n",
    "import time"
   ]
  },
  {
   "cell_type": "code",
   "execution_count": 39,
   "metadata": {},
   "outputs": [
    {
     "data": {
      "text/plain": [
       "['Bird', 'Cat', 'Dog', 'Flower', 'Face']"
      ]
     },
     "execution_count": 39,
     "metadata": {},
     "output_type": "execute_result"
    }
   ],
   "source": [
    "CLASSES1 = [ \"Bird\", \"Cat\", \"Dog\", \"Flower\", \"Face\" ]  # class names for type 1\n",
    "CLASSES2 = [\"Insect\", \"Fish\", \"Fast_food\", \"Animal\", \"Fruit\", \"Traffic_light\",\\\n",
    "             \"Vehicle_registration_plate\", \"Car\", \"Weapon\"] # class names for type 2\n",
    "type = 1\n",
    "classes = CLASSES1 if type == 1 else CLASSES2\n",
    "SOURCE = 0\n",
    "classes"
   ]
  },
  {
   "cell_type": "code",
   "execution_count": 40,
   "metadata": {},
   "outputs": [],
   "source": [
    "def transform(frame, img_size = 320):\n",
    "    im = cv2.resize(frame, (img_size, img_size), 3).astype(\"float32\")\n",
    "    im = np.expand_dims(im, axis=0)/255.0\n",
    "    return im"
   ]
  },
  {
   "cell_type": "code",
   "execution_count": 41,
   "metadata": {},
   "outputs": [],
   "source": [
    "MODEL_PATH =  f'tflite_models/custom0{type}.tflite'\n",
    "YOLO = Yolo(model_path = MODEL_PATH, CLASSES = classes)\n"
   ]
  },
  {
   "cell_type": "code",
   "execution_count": 42,
   "metadata": {},
   "outputs": [],
   "source": [
    "def return_detections(im, H, W):\n",
    "    YOLO.pred(im)\n",
    "    YOLO.extract_results()\n",
    "    YOLO.return_bbox()\n",
    "    data = YOLO.return_results(H, W)\n",
    "    return data[\"final\"]"
   ]
  },
  {
   "cell_type": "code",
   "execution_count": 43,
   "metadata": {},
   "outputs": [
    {
     "name": "stdout",
     "output_type": "stream",
     "text": [
      "(480, 640, 3)\n"
     ]
    }
   ],
   "source": [
    "def test_camera(source):\n",
    "    cap = cv2.VideoCapture(source)\n",
    "    _, frame = cap.read() \n",
    "    print(frame.shape)\n",
    "    if cap is None or not cap.isOpened():\n",
    "       print('Unable to open video source: ', source)\n",
    "    cap.release()\n",
    "test_camera(SOURCE) # inbuild webcam"
   ]
  },
  {
   "cell_type": "code",
   "execution_count": 44,
   "metadata": {},
   "outputs": [],
   "source": [
    "def start():\n",
    "    capture = cv2.VideoCapture(SOURCE)\n",
    "    capture.set(cv2.CAP_PROP_FRAME_WIDTH, 1920)\n",
    "    capture.set(cv2.CAP_PROP_FRAME_HEIGHT, 1080)\n",
    "    while True:\n",
    "        k = cv2.waitKey(1) & 0xFF\n",
    "        stime = time.time()\n",
    "        ret, frame = capture.read()\n",
    "        if ret:\n",
    "            new_image = transform(frame)\n",
    "            results = return_detections(new_image, frame.shape[0], frame.shape[1])\n",
    "            print(\"results are, - \", results)\n",
    "            for [coordinates, score, class_name] in results:\n",
    "                coordinates = [int(x) for x in coordinates]\n",
    "\n",
    "                xmin, ymin, xmax, ymax = coordinates\n",
    "\n",
    "                color = tuple(255 * np.random.rand(3))\n",
    "                text = '{}: {:.0f}%'.format(class_name, score)\n",
    "\n",
    "                frame = cv2.rectangle(frame, (int(xmin),int(ymin)), \\\n",
    "                                    (int(xmax),int(ymax)), color, 3)\n",
    "                frame = cv2.putText(frame, text, (int(xmin), int(ymin)-10),\\\n",
    "                                    cv2.FONT_HERSHEY_SIMPLEX, 0.9, color, 2)\n",
    "\n",
    "            cv2.imshow('frame', frame)\n",
    "\n",
    "            print('FPS {:.1f}'.format(1 / (time.time() - stime)))\n",
    "\n",
    "        if cv2.waitKey(1) & 0xFF == ord('q') or k%256 == 27:\n",
    "            print(\"exiting...\")\n",
    "            capture.release()\n",
    "            cv2.destroyAllWindows()\n",
    "            break\n",
    "start()"
   ]
  }
 ],
 "metadata": {
  "interpreter": {
   "hash": "eb2fee853a0add872ab5cd85368eb30ee2c72a490d2698117bf18cc0477ae1fb"
  },
  "kernelspec": {
   "display_name": "Python 3.7.7 32-bit",
   "language": "python",
   "name": "python3"
  },
  "language_info": {
   "codemirror_mode": {
    "name": "ipython",
    "version": 3
   },
   "file_extension": ".py",
   "mimetype": "text/x-python",
   "name": "python",
   "nbconvert_exporter": "python",
   "pygments_lexer": "ipython3",
   "version": "3.8.5"
  },
  "orig_nbformat": 4
 },
 "nbformat": 4,
 "nbformat_minor": 2
}
